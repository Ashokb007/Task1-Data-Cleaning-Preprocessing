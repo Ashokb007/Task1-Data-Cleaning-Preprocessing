# Getting libraries

import pandas as pd
import numpy as np
import matplotlib.pyplot as plt
import seaborn as sns

# Import the dataset
df = pd.read_csv("https://raw.githubusercontent.com/datasciencedojo/datasets/master/titanic.csv")

# Basic info
print(df.head())
print(df.info())
print(df.describe(include='all'))

# Handle missing values
df['Age'].fillna(df['Age'].median(), inplace=True)
df['Embarked'].fillna(df['Embarked'].mode()[0], inplace=True)

# Convert categorical to numeric (encoding)
df = pd.get_dummies(df, columns=['Sex','Embarked'], drop_first=True)

# Normalize/standardize numerical features
from sklearn.preprocessing import StandardScaler
scaler = StandardScaler()
df[['Age','Fare']] = scaler.fit_transform(df[['Age','Fare']])

# Visualize outliers before cleaning
plt.figure(figsize=(6,4))
sns.boxplot(x=df['Fare'])
plt.title("Fare Distribution with Outliers")
plt.show()

# Remove outliers using IQR
Q1 = df['Fare'].quantile(0.25)
Q3 = df['Fare'].quantile(0.75)
IQR = Q3 - Q1
df_cleaned = df[~((df['Fare'] < (Q1 - 1.5 * IQR)) | (df['Fare'] > (Q3 + 1.5 * IQR)))]

# Visualize after cleaning
plt.figure(figsize=(6,4))
sns.boxplot(x=df_cleaned['Fare'])
plt.title("Fare Distribution After Removing Outliers")
plt.show()

print("Shape after cleaning:", df_cleaned.shape)
df_cleaned.head()
